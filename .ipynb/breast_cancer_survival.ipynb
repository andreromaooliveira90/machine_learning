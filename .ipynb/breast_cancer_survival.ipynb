{
 "cells": [
  {
   "cell_type": "code",
   "execution_count": 2,
   "id": "423bcc8d",
   "metadata": {},
   "outputs": [],
   "source": [
    "import pandas as pd\n",
    "from sklearn.preprocessing import LabelEncoder\n",
    "import numpy as np\n",
    "from sklearn.dummy import DummyClassifier\n",
    "from matplotlib import pyplot\n",
    "from sklearn.model_selection import cross_val_score, RepeatedStratifiedKFold\n",
    "from sklearn.metrics import brier_score_loss, make_scorer\n",
    "from sklearn.linear_model import LogisticRegression\n",
    "from sklearn.discriminant_analysis import LinearDiscriminantAnalysis, QuadraticDiscriminantAnalysis\n",
    "from sklearn.naive_bayes import GaussianNB, MultinomialNB\n",
    "from sklearn.gaussian_process import GaussianProcessClassifier"
   ]
  },
  {
   "cell_type": "code",
   "execution_count": 3,
   "id": "e5c1cc5c",
   "metadata": {},
   "outputs": [
    {
     "data": {
      "application/vnd.microsoft.datawrangler.viewer.v0+json": {
       "columns": [
        {
         "name": "index",
         "rawType": "int64",
         "type": "integer"
        },
        {
         "name": "age",
         "rawType": "int64",
         "type": "integer"
        },
        {
         "name": "year",
         "rawType": "int64",
         "type": "integer"
        },
        {
         "name": "nodes",
         "rawType": "int64",
         "type": "integer"
        },
        {
         "name": "class",
         "rawType": "int64",
         "type": "integer"
        }
       ],
       "ref": "e747f674-f0ba-40e6-8d3e-760fdc125160",
       "rows": [
        [
         "0",
         "30",
         "64",
         "1",
         "1"
        ],
        [
         "1",
         "30",
         "62",
         "3",
         "1"
        ],
        [
         "2",
         "30",
         "65",
         "0",
         "1"
        ],
        [
         "3",
         "31",
         "59",
         "2",
         "1"
        ],
        [
         "4",
         "31",
         "65",
         "4",
         "1"
        ],
        [
         "5",
         "33",
         "58",
         "10",
         "1"
        ],
        [
         "6",
         "33",
         "60",
         "0",
         "1"
        ],
        [
         "7",
         "34",
         "59",
         "0",
         "2"
        ],
        [
         "8",
         "34",
         "66",
         "9",
         "2"
        ],
        [
         "9",
         "34",
         "58",
         "30",
         "1"
        ],
        [
         "10",
         "34",
         "60",
         "1",
         "1"
        ],
        [
         "11",
         "34",
         "61",
         "10",
         "1"
        ],
        [
         "12",
         "34",
         "67",
         "7",
         "1"
        ],
        [
         "13",
         "34",
         "60",
         "0",
         "1"
        ],
        [
         "14",
         "35",
         "64",
         "13",
         "1"
        ],
        [
         "15",
         "35",
         "63",
         "0",
         "1"
        ],
        [
         "16",
         "36",
         "60",
         "1",
         "1"
        ],
        [
         "17",
         "36",
         "69",
         "0",
         "1"
        ],
        [
         "18",
         "37",
         "60",
         "0",
         "1"
        ],
        [
         "19",
         "37",
         "63",
         "0",
         "1"
        ],
        [
         "20",
         "37",
         "58",
         "0",
         "1"
        ],
        [
         "21",
         "37",
         "59",
         "6",
         "1"
        ],
        [
         "22",
         "37",
         "60",
         "15",
         "1"
        ],
        [
         "23",
         "37",
         "63",
         "0",
         "1"
        ],
        [
         "24",
         "38",
         "69",
         "21",
         "2"
        ],
        [
         "25",
         "38",
         "59",
         "2",
         "1"
        ],
        [
         "26",
         "38",
         "60",
         "0",
         "1"
        ],
        [
         "27",
         "38",
         "60",
         "0",
         "1"
        ],
        [
         "28",
         "38",
         "62",
         "3",
         "1"
        ],
        [
         "29",
         "38",
         "64",
         "1",
         "1"
        ],
        [
         "30",
         "38",
         "66",
         "0",
         "1"
        ],
        [
         "31",
         "38",
         "66",
         "11",
         "1"
        ],
        [
         "32",
         "38",
         "60",
         "1",
         "1"
        ],
        [
         "33",
         "38",
         "67",
         "5",
         "1"
        ],
        [
         "34",
         "39",
         "66",
         "0",
         "2"
        ],
        [
         "35",
         "39",
         "63",
         "0",
         "1"
        ],
        [
         "36",
         "39",
         "67",
         "0",
         "1"
        ],
        [
         "37",
         "39",
         "58",
         "0",
         "1"
        ],
        [
         "38",
         "39",
         "59",
         "2",
         "1"
        ],
        [
         "39",
         "39",
         "63",
         "4",
         "1"
        ],
        [
         "40",
         "40",
         "58",
         "2",
         "1"
        ],
        [
         "41",
         "40",
         "58",
         "0",
         "1"
        ],
        [
         "42",
         "40",
         "65",
         "0",
         "1"
        ],
        [
         "43",
         "41",
         "60",
         "23",
         "2"
        ],
        [
         "44",
         "41",
         "64",
         "0",
         "2"
        ],
        [
         "45",
         "41",
         "67",
         "0",
         "2"
        ],
        [
         "46",
         "41",
         "58",
         "0",
         "1"
        ],
        [
         "47",
         "41",
         "59",
         "8",
         "1"
        ],
        [
         "48",
         "41",
         "59",
         "0",
         "1"
        ],
        [
         "49",
         "41",
         "64",
         "0",
         "1"
        ]
       ],
       "shape": {
        "columns": 4,
        "rows": 306
       }
      },
      "text/html": [
       "<div>\n",
       "<style scoped>\n",
       "    .dataframe tbody tr th:only-of-type {\n",
       "        vertical-align: middle;\n",
       "    }\n",
       "\n",
       "    .dataframe tbody tr th {\n",
       "        vertical-align: top;\n",
       "    }\n",
       "\n",
       "    .dataframe thead th {\n",
       "        text-align: right;\n",
       "    }\n",
       "</style>\n",
       "<table border=\"1\" class=\"dataframe\">\n",
       "  <thead>\n",
       "    <tr style=\"text-align: right;\">\n",
       "      <th></th>\n",
       "      <th>age</th>\n",
       "      <th>year</th>\n",
       "      <th>nodes</th>\n",
       "      <th>class</th>\n",
       "    </tr>\n",
       "  </thead>\n",
       "  <tbody>\n",
       "    <tr>\n",
       "      <th>0</th>\n",
       "      <td>30</td>\n",
       "      <td>64</td>\n",
       "      <td>1</td>\n",
       "      <td>1</td>\n",
       "    </tr>\n",
       "    <tr>\n",
       "      <th>1</th>\n",
       "      <td>30</td>\n",
       "      <td>62</td>\n",
       "      <td>3</td>\n",
       "      <td>1</td>\n",
       "    </tr>\n",
       "    <tr>\n",
       "      <th>2</th>\n",
       "      <td>30</td>\n",
       "      <td>65</td>\n",
       "      <td>0</td>\n",
       "      <td>1</td>\n",
       "    </tr>\n",
       "    <tr>\n",
       "      <th>3</th>\n",
       "      <td>31</td>\n",
       "      <td>59</td>\n",
       "      <td>2</td>\n",
       "      <td>1</td>\n",
       "    </tr>\n",
       "    <tr>\n",
       "      <th>4</th>\n",
       "      <td>31</td>\n",
       "      <td>65</td>\n",
       "      <td>4</td>\n",
       "      <td>1</td>\n",
       "    </tr>\n",
       "    <tr>\n",
       "      <th>...</th>\n",
       "      <td>...</td>\n",
       "      <td>...</td>\n",
       "      <td>...</td>\n",
       "      <td>...</td>\n",
       "    </tr>\n",
       "    <tr>\n",
       "      <th>301</th>\n",
       "      <td>75</td>\n",
       "      <td>62</td>\n",
       "      <td>1</td>\n",
       "      <td>1</td>\n",
       "    </tr>\n",
       "    <tr>\n",
       "      <th>302</th>\n",
       "      <td>76</td>\n",
       "      <td>67</td>\n",
       "      <td>0</td>\n",
       "      <td>1</td>\n",
       "    </tr>\n",
       "    <tr>\n",
       "      <th>303</th>\n",
       "      <td>77</td>\n",
       "      <td>65</td>\n",
       "      <td>3</td>\n",
       "      <td>1</td>\n",
       "    </tr>\n",
       "    <tr>\n",
       "      <th>304</th>\n",
       "      <td>78</td>\n",
       "      <td>65</td>\n",
       "      <td>1</td>\n",
       "      <td>2</td>\n",
       "    </tr>\n",
       "    <tr>\n",
       "      <th>305</th>\n",
       "      <td>83</td>\n",
       "      <td>58</td>\n",
       "      <td>2</td>\n",
       "      <td>2</td>\n",
       "    </tr>\n",
       "  </tbody>\n",
       "</table>\n",
       "<p>306 rows × 4 columns</p>\n",
       "</div>"
      ],
      "text/plain": [
       "     age  year  nodes  class\n",
       "0     30    64      1      1\n",
       "1     30    62      3      1\n",
       "2     30    65      0      1\n",
       "3     31    59      2      1\n",
       "4     31    65      4      1\n",
       "..   ...   ...    ...    ...\n",
       "301   75    62      1      1\n",
       "302   76    67      0      1\n",
       "303   77    65      3      1\n",
       "304   78    65      1      2\n",
       "305   83    58      2      2\n",
       "\n",
       "[306 rows x 4 columns]"
      ]
     },
     "execution_count": 3,
     "metadata": {},
     "output_type": "execute_result"
    }
   ],
   "source": [
    "url = \"https://raw.githubusercontent.com/jbrownlee/Datasets/master/haberman.csv\"\n",
    "\n",
    "columns = ['age', 'year', 'nodes', 'class']\n",
    "\n",
    "df = pd.read_csv(url, header=None, names=columns)\n",
    "df"
   ]
  },
  {
   "cell_type": "code",
   "execution_count": 4,
   "id": "7e4f069b",
   "metadata": {},
   "outputs": [
    {
     "data": {
      "application/vnd.microsoft.datawrangler.viewer.v0+json": {
       "columns": [
        {
         "name": "class",
         "rawType": "int64",
         "type": "integer"
        },
        {
         "name": "proportion",
         "rawType": "float64",
         "type": "float"
        }
       ],
       "ref": "11e3d041-0bb9-4c2f-a604-c8e642f79a9a",
       "rows": [
        [
         "1",
         "0.7352941176470589"
        ],
        [
         "2",
         "0.2647058823529412"
        ]
       ],
       "shape": {
        "columns": 1,
        "rows": 2
       }
      },
      "text/plain": [
       "class\n",
       "1    0.735294\n",
       "2    0.264706\n",
       "Name: proportion, dtype: float64"
      ]
     },
     "execution_count": 4,
     "metadata": {},
     "output_type": "execute_result"
    }
   ],
   "source": [
    "# verificar a distribuição de classes\n",
    "# sobrevivente = 1\n",
    "# não sobrevivente = 2\n",
    "# Entender se o problema é de classificação desbalanceada\n",
    "df['class'].value_counts(normalize=True)\n"
   ]
  },
  {
   "cell_type": "code",
   "execution_count": 5,
   "id": "6863b348",
   "metadata": {},
   "outputs": [],
   "source": [
    "# Separar os dados em X (atributos) e y (classe alvo)\n",
    "X = df.drop('class', axis=1)\n",
    "y = df['class']\n"
   ]
  },
  {
   "cell_type": "code",
   "execution_count": 6,
   "id": "79cde6d6",
   "metadata": {},
   "outputs": [],
   "source": [
    "# transformar as classes em 0 e 1\n",
    "\n",
    "label_encoder = LabelEncoder()\n",
    "y = label_encoder.fit_transform(y)\n"
   ]
  },
  {
   "cell_type": "code",
   "execution_count": 7,
   "id": "f8a9303d",
   "metadata": {},
   "outputs": [
    {
     "name": "stdout",
     "output_type": "stream",
     "text": [
      "Proporção da classe 0: 73.53%\n",
      "Proporção da classe 1: 26.47%\n"
     ]
    }
   ],
   "source": [
    "# Verificar a distribuição de classes depois do LabelEncoder\n",
    "print(f\"Proporção da classe 0: {np.mean(y == 0):.2%}\")\n",
    "print(f\"Proporção da classe 1: {np.mean(y == 1):.2%}\")"
   ]
  },
  {
   "cell_type": "code",
   "execution_count": 8,
   "id": "82f8497b",
   "metadata": {},
   "outputs": [
    {
     "name": "stdout",
     "output_type": "stream",
     "text": [
      "Brier Score da baseline: 19.46%\n"
     ]
    }
   ],
   "source": [
    "# Calcular Brier Score da baseline\n",
    "\n",
    "# * proporção da classe positiva (classe 1)\n",
    "pos_prob = np.mean(y)\n",
    "\n",
    "# criar uma lista com a mesma probabilidade para todas as amostras\n",
    "ref_probs = [pos_prob] * len(y)\n",
    "\n",
    "# calcular o brier score da baseline\n",
    "bs_ref = brier_score_loss(y, ref_probs)\n",
    "\n",
    "print(f'Brier Score da baseline: {bs_ref:.2%}')\n",
    "\n"
   ]
  },
  {
   "cell_type": "code",
   "execution_count": 9,
   "id": "f51a0f5d",
   "metadata": {},
   "outputs": [
    {
     "data": {
      "text/plain": [
       "np.float64(0.2647058823529412)"
      ]
     },
     "execution_count": 9,
     "metadata": {},
     "output_type": "execute_result"
    }
   ],
   "source": [
    "pos_prob"
   ]
  },
  {
   "cell_type": "code",
   "execution_count": 10,
   "id": "64031a87",
   "metadata": {},
   "outputs": [],
   "source": [
    "# Definir a função de Brier Skill Score\n",
    "def brier_skill_score(y_true, y_prob):\n",
    "    pos_prob = np.mean(y_true)\n",
    "    ref_probs = [pos_prob] * len(y_true)\n",
    "    bs_ref = brier_score_loss(y_true, ref_probs)\n",
    "    bs_model = brier_score_loss(y_true, y_prob)\n",
    "    return 1.0 - (bs_model / bs_ref)\n",
    "\n",
    "# a função tem o objetivo de medir quanto o modelo é melhor que a baseline\n",
    "# se o Brier Skill Score for maior que 0, significa que o modelo é melhor que a baseline. Se for menor que 0, o modelo é pior que chutar a média\n",
    "# o objetivo é criar uma métrica para avaliar modelos probabilísticos\n",
    "\n",
    "\n"
   ]
  },
  {
   "cell_type": "code",
   "execution_count": 11,
   "id": "e5cbaa68",
   "metadata": {},
   "outputs": [
    {
     "name": "stdout",
     "output_type": "stream",
     "text": [
      "Brier Skill Score do modelo baseline: 0.0000\n"
     ]
    }
   ],
   "source": [
    "# Treinar um modelo simples e calcular o Brier Skill Score (BSS)\n",
    "\n",
    "# modelo baseline que sempre prevê a proporção da classe positiva\n",
    "model = DummyClassifier(strategy='prior')\n",
    "\n",
    "# treinar o modelo \n",
    "model.fit(X, y)\n",
    "\n",
    "# prever probalbilidades\n",
    "y_prob = model.predict_proba(X)[:,1]\n",
    "\n",
    "# calcular o Brier Skill Score\n",
    "bss = brier_skill_score(y, y_prob)\n",
    "\n",
    "print(f'Brier Skill Score do modelo baseline: {bss:.4f}')\n",
    "\n",
    "# O Brier Skill Score mede o quanto o modelo é melhor que a previsão da média da classe positiva.\n",
    "# Se o modelo for igual a previsão previsão da média, o BSS será 0. Isso significa que o modelo não consegue prever um valor diferente de 26,47% (que é a proporção da classe positiva no seu y).\n",
    "    # é um modelo \"burro\" que sempre chuta 26,47% como a probabilidade de um caso ser da classe positiva, para qualquer amostra que fornecermos\n",
    "    # ele não aprendeu nada do dados (atributos, variável X) para fazer uma previsão inteligente \n",
    "# Se for pior, o BSS será negativo. \n",
    "# Se for melhor, o BSS será positivo.\n",
    "\n"
   ]
  },
  {
   "cell_type": "code",
   "execution_count": 12,
   "id": "81778b26",
   "metadata": {},
   "outputs": [],
   "source": [
    "# Função para usar no cross_val_score\n",
    "def custom_brier_skill_scorer(estimator, X, y_true):\n",
    "    y_prob = estimator.predict_proba(X)[:, 1]\n",
    "    return brier_skill_score(y_true, y_prob)"
   ]
  },
  {
   "cell_type": "code",
   "execution_count": 13,
   "id": "2fb9a85b",
   "metadata": {},
   "outputs": [],
   "source": [
    "\n",
    "# * Criar função para avaliar um modelo com validação cruzada\n",
    "# o objetivo é avaliar o desempenho do modelo de forma robusta e justa\n",
    "# def evaluate_model(X, y, model):\n",
    "#     # divide os dados em 10 partes, repetindo 3 vezes, mantendo a proporção das classes\n",
    "#     cv = RepeatedStratifiedKFold(n_splits=10, n_repeats=3, random_state=1)\n",
    "#     # make_scorer transforma a função brier_skill_score em uma métrica que o scikit-learn entende  \n",
    "#     metric = make_scorer(brier_skill_score, needs_proba=True)\n",
    "#     # cross_val_score treina e avalia o modelo em cada divisão, usando a métrica personalizada\n",
    "#     # n_jobs=-1 usa todos os núcleos do processador para acelerar\n",
    "#     score = cross_val_score(model, X, y, scoring=metric, cv=cv, n_jobs=-1, error_score='raise')\n",
    "#     return score\n",
    "\n",
    "\n",
    "def evaluate_model(X, y, model):\n",
    "    cv = RepeatedStratifiedKFold(n_splits=10, n_repeats=3, random_state=1)\n",
    "    scores = cross_val_score(model, X, y, scoring=custom_brier_skill_scorer, cv=cv, n_jobs=-1)\n",
    "    return scores\n"
   ]
  },
  {
   "cell_type": "code",
   "execution_count": 14,
   "id": "382d75a3",
   "metadata": {},
   "outputs": [],
   "source": [
    "\n",
    "# * Função para criar os modelos a serem testados\n",
    "# criar uma lista com os modelos que serão testados\n",
    "# criar uma lista com os nomes dos modelos\n",
    "def get_models():\n",
    "    models, names = list(), list()\n",
    "    models.append(LogisticRegression(solver='lbfgs'))\n",
    "    names.append('LR')\n",
    "    models.append(LinearDiscriminantAnalysis())\n",
    "    names.append('LDA')\n",
    "    models.append(QuadraticDiscriminantAnalysis())\n",
    "    names.append('QDA')\n",
    "    models.append(GaussianNB())\n",
    "    names.append('GNB')\n",
    "    models.append(MultinomialNB())\n",
    "    names.append('MNB')\n",
    "    models.append(GaussianProcessClassifier())\n",
    "    names.append('GPC')\n",
    "    return models, names"
   ]
  },
  {
   "cell_type": "code",
   "execution_count": 15,
   "id": "78f0459b",
   "metadata": {},
   "outputs": [
    {
     "name": "stdout",
     "output_type": "stream",
     "text": [
      ">LR 0.061 (0.143)\n",
      ">LDA 0.063 (0.154)\n",
      ">QDA 0.027 (0.221)\n",
      ">GNB 0.012 (0.212)\n",
      ">MNB -0.211 (0.369)\n",
      ">GPC -0.143 (0.040)\n"
     ]
    },
    {
     "name": "stderr",
     "output_type": "stream",
     "text": [
      "C:\\Users\\aoliveira_esss\\AppData\\Local\\Temp\\ipykernel_22228\\1226117131.py:9: MatplotlibDeprecationWarning: The 'labels' parameter of boxplot() has been renamed 'tick_labels' since Matplotlib 3.9; support for the old name will be dropped in 3.11.\n",
      "  pyplot.boxplot(results, labels=names, showmeans=True)\n"
     ]
    },
    {
     "data": {
      "image/png": "[encoded data removed]",
      "text/plain": [
       "<Figure size 640x480 with 1 Axes>"
      ]
     },
     "metadata": {},
     "output_type": "display_data"
    }
   ],
   "source": [
    "\n",
    "models, names = get_models()\n",
    "results = list()\n",
    "\n",
    "for i in range(len(models)):\n",
    "    scores = evaluate_model(X, y, models[i])\n",
    "    results.append(scores)\n",
    "    print('>%s %.3f (%.3f)' % (names[i], np.mean(scores), np.std(scores)))\n",
    "\n",
    "pyplot.boxplot(results, labels=names, showmeans=True)\n",
    "pyplot.show()"
   ]
  },
  {
   "cell_type": "code",
   "execution_count": 16,
   "id": "5cfecaaa",
   "metadata": {},
   "outputs": [],
   "source": [
    "\n",
    "# * os resultados \n",
    "# LR (Regressão Logística), BSS Médio = 0.061, Desvio Padrão = 0.143. Ligeiramente melhor que a baseline, com variação moderada\n",
    "# LDA (Análise Discriminante Linear), BSS Médio = 0.063, Desvio Padrão = 0.154. Similar ao LR, desempenho um pouco melhor que baseline\n",
    "# QDA (Análise Discriminante Quadrática), BSS Médio = 0.027, Desvio Padrão = 0.221. Melhor que baseline mas, com alta variação\n",
    "# GNB (Naive Bayes Gaussiano)\tBSS Médio = 0.012, Desvio Padrão = 0.212\tQuase igual à baseline, alta variabilidade\n",
    "# MNB (Naive Bayes Multinomial) BSS Médio = -0.211, Desvio Padrão = 0.369\tPior que baseline, alta variabilidade — não recomendado para esse problema\n",
    "# GPC (Processo Gaussiano) BSS Médio = -0.143, Desvio Padrão = 0.040\tPior que baseline, mas com baixa variabilidade\n",
    "\n",
    "\n",
    "# * Sobre o boxplot\n",
    "# Cada caixa representa a distribuição dos BSS para cada modelo nas 30 execuções (10 folds × 3 repetições).\n",
    "# A linha laranja é a mediana.\n",
    "# O triângulo verde é a média.\n",
    "# Os “bigodes” mostram a variação dos resultados.\n",
    "# Pontos fora dos bigodes são outliers.\n",
    "\n",
    "# * Conclusão\n",
    "# LR e LDA são os modelos mais promissores, com BSS positivos e relativamente estáveis.\n",
    "# QDA e GNB têm desempenho próximo da baseline, mas com maior variação.\n",
    "# MNB e GPC não são bons para esse problema, pois têm BSS negativos."
   ]
  },
  {
   "cell_type": "code",
   "execution_count": 18,
   "id": "61de7f22",
   "metadata": {},
   "outputs": [
    {
     "name": "stdout",
     "output_type": "stream",
     "text": [
      ">LR 0.061 (0.140)\n",
      ">LDA 0.063 (0.154)\n",
      ">QDA 0.027 (0.221)\n",
      ">GNB 0.012 (0.212)\n",
      ">GPC 0.097 (0.133)\n"
     ]
    },
    {
     "name": "stderr",
     "output_type": "stream",
     "text": [
      "C:\\Users\\aoliveira_esss\\AppData\\Local\\Temp\\ipykernel_22228\\3171568450.py:29: MatplotlibDeprecationWarning: The 'labels' parameter of boxplot() has been renamed 'tick_labels' since Matplotlib 3.9; support for the old name will be dropped in 3.11.\n",
      "  pyplot.boxplot(results_scaled, labels=names_scaled, showmeans=True)\n"
     ]
    },
    {
     "data": {
      "image/png": "[encoded data removed]",
      "text/plain": [
       "<Figure size 640x480 with 1 Axes>"
      ]
     },
     "metadata": {},
     "output_type": "display_data"
    }
   ],
   "source": [
    "from sklearn.pipeline import Pipeline\n",
    "from sklearn.preprocessing import StandardScaler\n",
    "\n",
    "# * Avaliar modelos utilizando escalonamento dos dados\n",
    "\n",
    "\n",
    "\n",
    "results_scaled = list()\n",
    "\n",
    "# remover MultinomialNB porque não aceita dados padronizados\n",
    "models_scaled = []\n",
    "names_scaled = []\n",
    "for m, n in zip(models, names):\n",
    "    if n != 'MNB':\n",
    "        models_scaled.append(m)\n",
    "        names_scaled.append(n)\n",
    "\n",
    "for i in range(len(models_scaled)):\n",
    "    # Criar pipeline com StandardScaler e o modelo\n",
    "    pipeline = Pipeline(steps=[('scaler', StandardScaler()), ('model', models_scaled[i])])\n",
    "    \n",
    "    # Avaliar o pipeline com validação cruzada\n",
    "    scores = evaluate_model(X, y, pipeline)\n",
    "    results_scaled.append(scores)\n",
    "    \n",
    "    print('>%s %.3f (%.3f)' % (names_scaled[i], np.mean(scores), np.std(scores)))\n",
    "\n",
    "# Plotar os resultados com escalonamento\n",
    "pyplot.boxplot(results_scaled, labels=names_scaled, showmeans=True)\n",
    "pyplot.xticks(rotation=45)\n",
    "pyplot.tight_layout()\n",
    "pyplot.show()"
   ]
  },
  {
   "cell_type": "code",
   "execution_count": null,
   "id": "0a60ad19",
   "metadata": {},
   "outputs": [],
   "source": [
    "\n",
    "# * O que mudou com o escalonamento?\n",
    "# GPC (Gaussian Process Classifier) teve uma melhora significativa no BSS, indicando que ele se beneficia do escalonamento.\n",
    "# Os demais modelos (LR, LDA, QDA, GNB) tiveram resultados muito parecidos com a versão sem escalonamento.\n",
    "# Isso indica que, para esses modelos, o escalonamento não fez muita diferença no desempenho, mas não prejudicou."
   ]
  },
  {
   "cell_type": "code",
   "execution_count": null,
   "id": "bbaccd70",
   "metadata": {},
   "outputs": [
    {
     "data": {
      "text/plain": [
       "array([[<Axes: title={'center': 'age'}>,\n",
       "        <Axes: title={'center': 'year'}>],\n",
       "       [<Axes: title={'center': 'nodes'}>,\n",
       "        <Axes: title={'center': 'class'}>]], dtype=object)"
      ]
     },
     "execution_count": 19,
     "metadata": {},
     "output_type": "execute_result"
    },
    {
     "data": {
      "image/png": "[encoded data removed]",
      "text/plain": [
       "<Figure size 640x480 with 4 Axes>"
      ]
     },
     "metadata": {},
     "output_type": "display_data"
    }
   ],
   "source": [
    "\n",
    "# * Transformações de potência\n",
    "# algumas variáveis como age e node não seguem uma distribuição normal (gaussiana)\n",
    "# modelos como Regressão Logística e LDA funcionam melhor quando as variáveis têm distribuição mais próxima da normal\n",
    "# variáveis com distribuições muito assimétricas ou com muitos zeros podem prejudicar o desempenho dos modelos\n",
    "\n",
    "# transformações de potência são técnicas matemáticas que \"transformam\" os dados para que fiquem mais parecidos com uma distribuição normal\n",
    "# por exemplo: Box-cox e Yeo-Johnson\n",
    "# O Yeo-Johnson é mais flexível porque funciona com dados que têm valores zero ou negativos (diferente do Box-Cox que exige dados positivos)\n",
    "\n",
    "# transformações de potência podem usar funções logarítmicas que não funcionam com valores zero\n",
    "# para evitar problemas, o livro recomenda primeiro escalar os dados para o intervalo [0,1] usando o MinMaxScaler\n",
    "# isso garante que não haja valores negativos ou zeros que causem erro na transformação\n",
    "\n",
    "df.hist()"
   ]
  },
  {
   "cell_type": "code",
   "execution_count": null,
   "id": "e6ab3d6d",
   "metadata": {},
   "outputs": [],
   "source": [
    "\n",
    "# * Uso do Pipeline\n",
    "# O pipeline encadeia as transformações e o modelo em uma sequência:\n",
    "# Primeiro, aplica o MinMaxScaler para escalar os dados.\n",
    "# Depois, aplica o PowerTransformer para transformar a distribuição.\n",
    "# Por fim, treina o modelo.\n",
    "# Isso garante que, em cada fold da validação cruzada, as transformações sejam ajustadas apenas nos dados de treinamento e aplicadas corretamente nos dados de teste, evitando vazamento de dados."
   ]
  },
  {
   "cell_type": "code",
   "execution_count": null,
   "id": "5f8bf0e8",
   "metadata": {},
   "outputs": [
    {
     "name": "stdout",
     "output_type": "stream",
     "text": [
      "\n",
      "--- Avaliação dos modelos com MinMaxScaler + PowerTransformer ---\n",
      ">LR 0.110 (0.142)\n",
      ">LDA 0.106 (0.164)\n",
      ">QDA 0.106 (0.199)\n",
      ">GNB 0.096 (0.172)\n",
      ">GPC 0.100 (0.130)\n"
     ]
    },
    {
     "name": "stderr",
     "output_type": "stream",
     "text": [
      "C:\\Users\\aoliveira_esss\\AppData\\Local\\Temp\\ipykernel_22228\\2872395809.py:29: MatplotlibDeprecationWarning: The 'labels' parameter of boxplot() has been renamed 'tick_labels' since Matplotlib 3.9; support for the old name will be dropped in 3.11.\n",
      "  pyplot.boxplot(results_power, labels=names_power, showmeans=True)\n"
     ]
    },
    {
     "data": {
      "image/png": "[encoded data removed]",
      "text/plain": [
       "<Figure size 640x480 with 1 Axes>"
      ]
     },
     "metadata": {},
     "output_type": "display_data"
    }
   ],
   "source": [
    "from sklearn.preprocessing import MinMaxScaler, PowerTransformer\n",
    "from sklearn.pipeline import Pipeline\n",
    "\n",
    "\n",
    "print(\"\\n--- Avaliação dos modelos com MinMaxScaler + PowerTransformer ---\")\n",
    "\n",
    "results_power = list()\n",
    "\n",
    "# Remover MultinomialNB (MNB) porque não aceita valores negativos e pode dar problema\n",
    "models_power = []\n",
    "names_power = []\n",
    "for m, n in zip(models, names):\n",
    "    if n != 'MNB':\n",
    "        models_power.append(m)\n",
    "        names_power.append(n)\n",
    "\n",
    "for i in range(len(models_power)):\n",
    "    # Criar pipeline com MinMaxScaler, PowerTransformer e o modelo\n",
    "    steps = [('minmax', MinMaxScaler()), ('power', PowerTransformer()), ('model', models_power[i])]\n",
    "    pipeline = Pipeline(steps=steps)\n",
    "    \n",
    "    # Avaliar o pipeline com validação cruzada\n",
    "    scores = evaluate_model(X, y, pipeline)\n",
    "    results_power.append(scores)\n",
    "    \n",
    "    print('>%s %.3f (%.3f)' % (names_power[i], np.mean(scores), np.std(scores)))\n",
    "\n",
    "pyplot.boxplot(results_power, labels=names_power, showmeans=True)\n",
    "pyplot.xticks(rotation=45)\n",
    "pyplot.tight_layout()\n",
    "pyplot.show()"
   ]
  },
  {
   "cell_type": "code",
   "execution_count": null,
   "id": "2cd8ea17",
   "metadata": {},
   "outputs": [],
   "source": [
    "\n",
    "# * O que esses números indicam?\n",
    "# Todos os modelos tiveram melhora clara no Brier Skill Score em comparação com as versões anteriores (sem transformação ou só com escalonamento)\n",
    "# Isso significa que a combinação de MinMaxScaler + PowerTransformer ajudou a deixar os dados mais adequados para os modelos probabilísticos\n",
    "# A variabilidade (desvio padrão) ainda existe, especialmente em QDA e GNB, mas o desempenho médio subiu\n",
    "\n",
    "# Aplicar a transformação de potência com MinMaxScaler é uma boa prática para melhorar modelos que assumem normalidade.\n",
    "# Essa etapa pode ser decisiva para extrair melhor desempenho em problemas com dados não gaussianos."
   ]
  },
  {
   "cell_type": "code",
   "execution_count": 29,
   "id": "44fb4d92",
   "metadata": {},
   "outputs": [
    {
     "name": "stdout",
     "output_type": "stream",
     "text": [
      "Amostra 1 - Probabilidade de sobrevivência: 83.60%\n",
      "Amostra 2 - Probabilidade de sobrevivência: 77.26%\n",
      "Amostra 3 - Probabilidade de sobrevivência: 86.78%\n"
     ]
    }
   ],
   "source": [
    "\n",
    "# * Escolha do modelo final\n",
    "# depois de testar vários modelos a escolha é Regressão Logística ele teve o melhor desempenho\n",
    "\n",
    "# criar o pipeline com escalonamento, transformação e modelo\n",
    "steps = [\n",
    "    ('scaler', MinMaxScaler()),\n",
    "    ('power', PowerTransformer()),\n",
    "    ('model', LogisticRegression(solver='lbfgs', max_iter=1000))\n",
    "]\n",
    "model = Pipeline(steps=steps)\n",
    "\n",
    "# treinar o modelo com o conjuto de dados\n",
    "model.fit(X,y)\n",
    "\n",
    "# exemplo de uma nova amostra\n",
    "# idade = 31, ano da cirurgia = 59, número de linfonodos = 2\n",
    "# lista de amostras\n",
    "row = [[31, 59, 2], [31, 65, 4], [34, 60, 1]]\n",
    "\n",
    "# criar DataFrame com nomes das colunas\n",
    "row_df = pd.DataFrame(row, columns=X.columns)\n",
    "\n",
    "\n",
    "# fazer a previsão\n",
    "yhat = model.predict_proba(row_df)\n",
    "\n",
    "# mostrar a probabilidade de sobrevivência para cada amostra\n",
    "for i, prob in enumerate(yhat[:, 0]):\n",
    "    print(f'Amostra {i+1} - Probabilidade de sobrevivência: {prob * 100:.2f}%')\n",
    "\n",
    "# * Como funciona\n",
    "# o pipeline aplica as transformações nos dados da nova amostra exatamente como fez no treinamento\n",
    "# predict_proba retorna duas probabilidades\n",
    "#     yhat[0, 0] = probabilidade da classe 0 (sobrevivência)\n",
    "#     yhat[0, 1] = probabilidade da classe 1 (não sobrevivência)\n",
    "# multiplicando por 100 converte para porcentagem"
   ]
  },
  {
   "cell_type": "code",
   "execution_count": null,
   "id": "fa998ed3",
   "metadata": {},
   "outputs": [],
   "source": []
  }
 ],
 "metadata": {
  "kernelspec": {
   "display_name": "machine_learning",
   "language": "python",
   "name": "python3"
  },
  "language_info": {
   "codemirror_mode": {
    "name": "ipython",
    "version": 3
   },
   "file_extension": ".py",
   "mimetype": "text/x-python",
   "name": "python",
   "nbconvert_exporter": "python",
   "pygments_lexer": "ipython3",
   "version": "3.12.6"
  }
 },
 "nbformat": 4,
 "nbformat_minor": 5
}
